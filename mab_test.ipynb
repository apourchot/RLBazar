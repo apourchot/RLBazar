{
 "cells": [
  {
   "cell_type": "code",
   "execution_count": 1,
   "metadata": {},
   "outputs": [],
   "source": [
    "import numpy as np\n",
    "import matplotlib.pyplot as plt\n",
    "\n",
    "from mab.mab import UCB"
   ]
  },
  {
   "cell_type": "code",
   "execution_count": 105,
   "metadata": {},
   "outputs": [],
   "source": [
    "class UCB:\n",
    "\n",
    "    def __init__(self, n_arms, args=None):\n",
    "\n",
    "        # bandit stuff\n",
    "        self.n_arms = n_arms\n",
    "        self.means = np.zeros(n_arms)\n",
    "        self.occurences = np.zeros(n_arms)\n",
    "        self.f = lambda t: 1 + t * np.log(t) ** 2\n",
    "        self.t = 0\n",
    "\n",
    "        # misc\n",
    "        self.args = args\n",
    "\n",
    "    def sample(self):\n",
    "        \"\"\"\n",
    "        Samples an arm\n",
    "        \"\"\"\n",
    "\n",
    "        # if we tried all arms at least once\n",
    "        if self.t >= self.n_arms:\n",
    "            confidence_bounds = self.compute_confidences()\n",
    "            # print(confidence_bounds)\n",
    "            i = np.argmax(confidence_bounds)\n",
    "        else:\n",
    "            i = self.t\n",
    "        self.t += 1\n",
    "\n",
    "        return i\n",
    "    \n",
    "    def compute_confidences(self):\n",
    "        \"\"\"\n",
    "        Computes confidence bounds\n",
    "        \"\"\"\n",
    "        return self.means + np.sqrt(2 * np.log(self.f(self.t)) / self.occurences)\n",
    "    \n",
    "    def update_arm(self, i, score):\n",
    "        \"\"\"\n",
    "        Updates the averages and confidence bounds\n",
    "        \"\"\"\n",
    "        self.occurences[i] += 1\n",
    "        self.means[i] = (self.means[i] * (self.occurences[i] - 1) + score) / self.occurences[i]\n"
   ]
  },
  {
   "cell_type": "code",
   "execution_count": 120,
   "metadata": {
    "scrolled": false
   },
   "outputs": [
    {
     "name": "stdout",
     "output_type": "stream",
     "text": [
      "Best arm: 2\n",
      "Means:  [ 303.95276505  965.50905191 1537.84383735  920.5738494   244.58359696]\n",
      "Scales:  [1. 1. 1. 1. 1.]\n",
      "Confidences:  [ 308.36405849  969.27032665 1538.25871674  923.44431465  246.16586905]\n",
      "Averages:  [ 304.44998111  965.35624927 1537.85923789  919.53023727  242.25179168]\n"
     ]
    },
    {
     "data": {
      "text/plain": [
       "(array([ 1.,  0.,  1.,  0.,  0., 96.,  0.,  1.,  0.,  1.]),\n",
       " array([0. , 0.4, 0.8, 1.2, 1.6, 2. , 2.4, 2.8, 3.2, 3.6, 4. ]),\n",
       " <a list of 10 Patch objects>)"
      ]
     },
     "execution_count": 120,
     "metadata": {},
     "output_type": "execute_result"
    },
    {
     "data": {
      "image/png": "[encoded data removed]",
      "text/plain": [
       "<Figure size 1080x576 with 2 Axes>"
      ]
     },
     "metadata": {
      "needs_background": "light"
     },
     "output_type": "display_data"
    }
   ],
   "source": [
    "n_arms = 5\n",
    "\n",
    "means = np.random.normal(loc=1000, scale=500, size=n_arms)\n",
    "scales = np.ones(n_arms) * 1\n",
    "best_arm = np.argmax(means)\n",
    "print(\"Best arm: {}\".format(best_arm))\n",
    "print(\"Means: \", means)\n",
    "print(\"Scales: \", scales)\n",
    "\n",
    "regrets = []\n",
    "arms = []\n",
    "ucb = UCB(n_arms=n_arms)\n",
    "for i in range(100):\n",
    "    # print(ucb.compute_confidences())\n",
    "    arm = ucb.sample()\n",
    "    # print(arm)\n",
    "    obs = np.random.normal(loc=means[arm], scale=scales[arm])\n",
    "    ucb.update_arm(arm, obs)\n",
    "    regrets.append(means[best_arm] - means[arm])\n",
    "    arms.append(arm)\n",
    "    \n",
    "print(\"Confidences: \", ucb.compute_confidences())\n",
    "print(\"Averages: \", ucb.means)\n",
    "plt.figure(figsize=(15, 8))\n",
    "plt.subplot(121)\n",
    "plt.plot(np.cumsum(regrets))\n",
    "plt.subplot(122)\n",
    "plt.hist(arms)"
   ]
  },
  {
   "cell_type": "code",
   "execution_count": null,
   "metadata": {},
   "outputs": [],
   "source": []
  }
 ],
 "metadata": {
  "kernelspec": {
   "display_name": "Python 3",
   "language": "python",
   "name": "python3"
  },
  "language_info": {
   "codemirror_mode": {
    "name": "ipython",
    "version": 3
   },
   "file_extension": ".py",
   "mimetype": "text/x-python",
   "name": "python",
   "nbconvert_exporter": "python",
   "pygments_lexer": "ipython3",
   "version": "3.6.7"
  }
 },
 "nbformat": 4,
 "nbformat_minor": 2
}
